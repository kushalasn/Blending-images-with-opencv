{
 "cells": [
  {
   "cell_type": "code",
   "execution_count": 1,
   "metadata": {
    "collapsed": true
   },
   "outputs": [],
   "source": [
    "import cv2\n",
    "import numpy as np\n"
   ]
  },
  {
   "cell_type": "code",
   "execution_count": 2,
   "metadata": {
    "collapsed": true
   },
   "outputs": [],
   "source": [
    "img1=cv2.imread('C:/Users/kushal asn/Documents/apple.jpg')\n",
    "img1=cv2.resize(img1,(1000,1000))\n",
    "\n",
    "\n",
    "img2=cv2.imread('C:/Users/kushal asn/Documents/orange.jpg')\n",
    "img2=cv2.resize(img2,(1000,1000))\n"
   ]
  },
  {
   "cell_type": "code",
   "execution_count": 3,
   "metadata": {
    "collapsed": true
   },
   "outputs": [],
   "source": [
    "apple_orange=np.hstack((img1[:,0:500],img2[:,500:1000]))"
   ]
  },
  {
   "cell_type": "code",
   "execution_count": 4,
   "metadata": {
    "collapsed": true
   },
   "outputs": [],
   "source": [
    "#gaussain pyramid for img1\n",
    "layer=img1.copy()\n",
    "gaussian_pyramid=[layer]\n",
    "for i in range(6):\n",
    "    layer=cv2.pyrDown(layer)\n",
    "    gaussian_pyramid.append(layer)\n",
    "    \n",
    "    \n",
    "#laplacian pyramid for img1\n",
    "layer=gaussian_pyramid[5]\n",
    "laplacian_pyramid=[layer]\n",
    "for i in range(5,0,-1):\n",
    "    size=(gaussian_pyramid[i-1].shape[1],gaussian_pyramid[i-1].shape[0])\n",
    "    gaussian_expanded=cv2.pyrUp(gaussian_pyramid[i],dstsize=size)\n",
    "    laplacian=cv2.subtract(gaussian_pyramid[i-1],gaussian_expanded)\n",
    "    laplacian_pyramid.append(laplacian)"
   ]
  },
  {
   "cell_type": "code",
   "execution_count": 5,
   "metadata": {
    "collapsed": true
   },
   "outputs": [],
   "source": [
    "#gaussain pyramid for img2\n",
    "layer=img2.copy()\n",
    "gaussian_pyramid2=[layer]\n",
    "for i in range(6):\n",
    "    layer=cv2.pyrDown(layer)\n",
    "    gaussian_pyramid2.append(layer)\n",
    "    \n",
    "    \n",
    "#laplacian pyramid for img2\n",
    "layer=gaussian_pyramid2[5]\n",
    "laplacian_pyramid2=[layer]\n",
    "for i in range(5,0,-1):\n",
    "    size=(gaussian_pyramid2[i-1].shape[1],gaussian_pyramid2[i-1].shape[0])\n",
    "    gaussian_expanded=cv2.pyrUp(gaussian_pyramid[i],dstsize=size)\n",
    "    laplacian=cv2.subtract(gaussian_pyramid2[i-1],gaussian_expanded)\n",
    "    laplacian_pyramid2.append(laplacian)"
   ]
  },
  {
   "cell_type": "code",
   "execution_count": null,
   "metadata": {
    "collapsed": true
   },
   "outputs": [],
   "source": [
    "#laplacian pyramid for apple orange\n",
    "a_o_pyramid=[]\n",
    "n=0\n",
    "for img1_lap,img2_lap in zip(laplacian_pyramid,laplacian_pyramid2):\n",
    "    n=n+1\n",
    "    laplacian=np.hstack((img1_lap[:,0:500],img2_lap[:,500:1000]))\n",
    "    a_o_pyramid.append(laplacian)\n",
    "  \n",
    "    \n",
    "    \n",
    "\n",
    "#reconstructed apple orange    \n",
    "a_o_reconstructed= a_o_pyramid[0]\n",
    "for i in range(1,6):\n",
    "    size=(a_o_pyramid[i].shape[1],a_o_pyramid[i].shape[0])\n",
    "    a_o_reconstructed=cv2.pyrUp(a_o_reconstructed,dstsize=size)\n",
    "    a_o_reconstructed=cv2.add(a_o_pyramid[i],a_o_reconstructed)\n",
    "    \n",
    "\n",
    "cv2.imshow('apple orange blending',a_o_reconstructed)\n",
    "cv2.imshow('duplicate blend',apple_orange)\n",
    "cv2.waitKey(0)\n",
    "cv2.destroyAlWindows()\n",
    "    \n",
    "    "
   ]
  },
  {
   "cell_type": "code",
   "execution_count": null,
   "metadata": {
    "collapsed": true
   },
   "outputs": [],
   "source": []
  }
 ],
 "metadata": {
  "kernelspec": {
   "display_name": "Python 3",
   "language": "python",
   "name": "python3"
  },
  "language_info": {
   "codemirror_mode": {
    "name": "ipython",
    "version": 3
   },
   "file_extension": ".py",
   "mimetype": "text/x-python",
   "name": "python",
   "nbconvert_exporter": "python",
   "pygments_lexer": "ipython3",
   "version": "3.6.1"
  }
 },
 "nbformat": 4,
 "nbformat_minor": 2
}
